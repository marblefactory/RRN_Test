{
 "cells": [
  {
   "cell_type": "markdown",
   "metadata": {},
   "source": [
    "# RRN-LSTM with Tensorflow\n",
    "\n",
    "Following the tutorial [A noob’s guide to implementing RNN-LSTM using Tensorflow](http://monik.in/a-noobs-guide-to-implementing-rnn-lstm-using-tensorflow).\n",
    "\n",
    "See [Andrej Karpathy's blog post](http://karpathy.github.io/2015/05/21/rnn-effectiveness/) for more information on RRNs."
   ]
  },
  {
   "cell_type": "markdown",
   "metadata": {},
   "source": [
    "# Task\n",
    "Given a binary string, containing `0`s and `1`s, of length 20, we need to determine the count of `1`s the string."
   ]
  },
  {
   "cell_type": "markdown",
   "metadata": {},
   "source": [
    "# Simple Soltuion\n",
    "This is easy to solve without using a RRN, as shown in the code below. However, this is a simple problem with which to experiment using RRNs."
   ]
  },
  {
   "cell_type": "code",
   "execution_count": 87,
   "metadata": {},
   "outputs": [
    {
     "name": "stdout",
     "output_type": "stream",
     "text": [
      "9\n"
     ]
    }
   ],
   "source": [
    "from functools import reduce\n",
    "\n",
    "def count_num_1s(s: str) -> int:    \n",
    "    return reduce((lambda acc, x: acc + x if x == 1 else acc), s)\n",
    "\n",
    "# Should print out '9'.\n",
    "print(str(count_num_1s([1, 1, 1, 0, 1, 0, 0, 0, 0, 0, 1, 1, 0, 1, 0, 0, 0, 0, 1, 1])))"
   ]
  },
  {
   "cell_type": "markdown",
   "metadata": {},
   "source": [
    "# RRN Solution\n",
    "\n",
    "## Training Data\n",
    "\n",
    "- Each input is a binary string of length 10.\n",
    "- An input will be represented as a python list of `0`s and `1`s.\n",
    "- There are $2^{10}$ possible combinations of `0`s and `1`s. \n",
    "- The network will be trained on all possible combinations.\n",
    "- The inputs will be shuffled before giving them to the network to train with."
   ]
  },
  {
   "cell_type": "code",
   "execution_count": 88,
   "metadata": {},
   "outputs": [
    {
     "name": "stdout",
     "output_type": "stream",
     "text": [
      "[[0, 0], [1, 0], [0, 1], [1, 1]]\n"
     ]
    }
   ],
   "source": [
    "import numpy as np\n",
    "from random import shuffle\n",
    "from typing import List\n",
    "\n",
    "def make_all_binary_strings(length: int = 10) -> List[List[int]]:\n",
    "    \"\"\"\n",
    "    returns: a list of all possible binary strings, where a binary string is represened as a list of ints.\n",
    "    \"\"\"\n",
    "    format_string = '{0:0' + str(length) + 'b}'\n",
    "    all_binary_strings = [format_string.format(i) for i in range(2**length)]\n",
    "    shuffle(all_binary_strings)\n",
    "    return [list(map(int,i)) for i in all_binary_strings]\n",
    "\n",
    "example_all = make_all_binary_strings(length=2)\n",
    "print(example_all)"
   ]
  },
  {
   "cell_type": "markdown",
   "metadata": {},
   "source": [
    "- Tensorflow requires input as a tensor, i.e. a Tensorflow variable.\n",
    "- The tensor is 3D with the dimensions [batch_size, sequence_length, input_dimension], where\n",
    "    - `batch_size` is something we’ll determine later \n",
    "    - `sequence_length` is fixed at 10 \n",
    "    - `input_dimension` is 1 i.e each individual bit of the string. Therefore, each bit will actually be represented as a list containing just that bit. "
   ]
  },
  {
   "cell_type": "code",
   "execution_count": 89,
   "metadata": {},
   "outputs": [
    {
     "name": "stdout",
     "output_type": "stream",
     "text": [
      "[array([[0],\n",
      "       [0]]), array([[1],\n",
      "       [0]]), array([[0],\n",
      "       [1]]), array([[1],\n",
      "       [1]])]\n"
     ]
    }
   ],
   "source": [
    "def make_training(training_binary_strings: List[List[int]]) -> List[np.array]:\n",
    "    # Turn every every element into an array containing that one element.\n",
    "    # This is required as the input_dimension is 1.\n",
    "    xs = list(map(lambda bits: list(map(lambda bit: [bit], bits)), training_binary_strings))\n",
    "    # Make each array of bits a numpy array.\n",
    "    return list(map(lambda bits: np.array(bits), xs))\n",
    "\n",
    "example_training = make_training(example_all)\n",
    "print(example_training)"
   ]
  },
  {
   "cell_type": "markdown",
   "metadata": {},
   "source": [
    "### Labelling Training Data\n",
    "- For every sequence, the result can be anything between 0 and 20. \n",
    "- Therefore there are have 21 categories in which a sequence can be classified into.\n",
    "- Each sequence belongs to the class number which is the same as the count of ones in the sequence.\n",
    "- The output is represented using 1-hot encoding.\n",
    "- i.e. a vector containing all zeros except of one position which containings a one, indicating the class the sequence belongs to.\n",
    "\n",
    "For example, the sequence `0011` would have the top output vector below, indicating there are two `1`s in the sequence.\n",
    "\n",
    "`[0 0 1 0 0]`\n",
    "\n",
    "`[0 1 2 3 4]` (the number of `1`s)"
   ]
  },
  {
   "cell_type": "code",
   "execution_count": 95,
   "metadata": {},
   "outputs": [
    {
     "name": "stdout",
     "output_type": "stream",
     "text": [
      "[([0, 0], 0), ([1, 0], 1), ([0, 1], 1), ([1, 1], 2)]\n"
     ]
    }
   ],
   "source": [
    "def label_training(training: List[np.array]) -> List[int]:\n",
    "    def f(bits: np.array):\n",
    "        # We made each element a single array in `make_training`.\n",
    "        # By flattening we can more easily work with the data.\n",
    "        flattened = bits.flatten()\n",
    "        return count_num_1s(flattened)\n",
    "    \n",
    "    return list(map(f, training))\n",
    "\n",
    "example_labels = label_training(example_training)\n",
    "print(list(zip(example_all, example_labels)))"
   ]
  },
  {
   "cell_type": "code",
   "execution_count": null,
   "metadata": {},
   "outputs": [],
   "source": []
  },
  {
   "cell_type": "code",
   "execution_count": null,
   "metadata": {},
   "outputs": [],
   "source": []
  }
 ],
 "metadata": {
  "kernelspec": {
   "display_name": "Python 3",
   "language": "python",
   "name": "python3"
  },
  "language_info": {
   "codemirror_mode": {
    "name": "ipython",
    "version": 3
   },
   "file_extension": ".py",
   "mimetype": "text/x-python",
   "name": "python",
   "nbconvert_exporter": "python",
   "pygments_lexer": "ipython3",
   "version": "3.5.4"
  }
 },
 "nbformat": 4,
 "nbformat_minor": 2
}
